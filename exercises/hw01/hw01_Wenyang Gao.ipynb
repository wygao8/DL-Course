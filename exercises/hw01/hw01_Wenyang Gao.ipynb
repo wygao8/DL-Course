{
  "cells": [
    {
      "cell_type": "markdown",
      "id": "7f50a8ec-3d6f-46a9-8b47-ff6635764d45",
      "metadata": {},
      "source": [
        "## Homework Assignment 1 - NumPy Exercises for Beginners\n",
        "NumPy is a computational library that helps in speeding up Vector Algebra operations that involve Vectors (Distance between points, Cosine Similarity) and Matrices. Specifically, it helps in constructing powerful n-dimensional arrays that works smoothly with distributed and GPU systems. It is a very handy library and extensively used in the domains of Data Analytics and Machine Learning. Other than Python, it can also be used in tandem with languages like C and Fortran. Being an Open Source Library under a liberal BSD license, it is developed and maintained publicly on GitHub. "
      ]
    },
    {
      "cell_type": "markdown",
      "id": "b9670d85-ef29-4dfd-b4b5-e76d279c1f1a",
      "metadata": {},
      "source": [
        "### 1. Import the numpy package under the name `np`"
      ]
    },
    {
      "cell_type": "code",
      "execution_count": 1,
      "id": "632749fe-b282-4164-ac31-ab505f593a0b",
      "metadata": {},
      "outputs": [],
      "source": [
        "import numpy as np"
      ]
    },
    {
      "cell_type": "markdown",
      "id": "2032ae5b-ac13-4f50-b849-69aaf9dcb925",
      "metadata": {},
      "source": [
        "### 2. Create random vector of size 10 and replace the maximum value by 0"
      ]
    },
    {
      "cell_type": "code",
      "execution_count": 2,
      "id": "20a250b1-a0c6-4efc-8f53-f1186252b1d2",
      "metadata": {},
      "outputs": [
        {
          "name": "stdout",
          "output_type": "stream",
          "text": [
            "[0.71054405 0.6686429  0.36089601 0.84133875 0.44636368 0.70114554\n",
            " 0.38706943 0.84109883 0.86200546 0.61799173]\n"
          ]
        },
        {
          "data": {
            "text/plain": [
              "array([0.71054405, 0.6686429 , 0.36089601, 0.84133875, 0.44636368,\n",
              "       0.70114554, 0.38706943, 0.84109883, 0.        , 0.61799173])"
            ]
          },
          "execution_count": 2,
          "metadata": {},
          "output_type": "execute_result"
        }
      ],
      "source": [
        "v = np.random.rand(10)\n",
        "print(v)\n",
        "v = np.where(v==max(v), [0]*10, v)\n",
        "v\n"
      ]
    },
    {
      "cell_type": "markdown",
      "id": "5470eef3-bcb0-4802-b1b5-7e3f9ed4490c",
      "metadata": {},
      "source": [
        "### 3. Create a 5*5 martrix whose main diagonal elements as `1,2,3,4,5` and other elements as `0`"
      ]
    },
    {
      "cell_type": "code",
      "execution_count": 3,
      "id": "dee02632-4786-4c5b-bf4e-7476c00a86a4",
      "metadata": {},
      "outputs": [
        {
          "data": {
            "text/plain": [
              "array([[1, 0, 0, 0, 0],\n",
              "       [0, 2, 0, 0, 0],\n",
              "       [0, 0, 3, 0, 0],\n",
              "       [0, 0, 0, 4, 0],\n",
              "       [0, 0, 0, 0, 5]])"
            ]
          },
          "execution_count": 3,
          "metadata": {},
          "output_type": "execute_result"
        }
      ],
      "source": [
        "m = np.zeros([5,5],dtype=int)\n",
        "for i in range(5):\n",
        "    for j in range(5):\n",
        "        if i == j:\n",
        "            m[i][j]=i+1\n",
        "m"
      ]
    },
    {
      "cell_type": "markdown",
      "id": "4f69c1fc-db24-49bb-af93-c91995f9e604",
      "metadata": {},
      "source": [
        "### 4. Create a 10*10 martrix whose boundary values as 1 and internal values as 0"
      ]
    },
    {
      "cell_type": "code",
      "execution_count": 4,
      "id": "7bb927a9-7622-4260-978f-40ffea299bcd",
      "metadata": {},
      "outputs": [
        {
          "data": {
            "text/plain": [
              "array([[1., 1., 1., 1., 1., 1., 1., 1., 1., 1.],\n",
              "       [1., 0., 0., 0., 0., 0., 0., 0., 0., 1.],\n",
              "       [1., 0., 0., 0., 0., 0., 0., 0., 0., 1.],\n",
              "       [1., 0., 0., 0., 0., 0., 0., 0., 0., 1.],\n",
              "       [1., 0., 0., 0., 0., 0., 0., 0., 0., 1.],\n",
              "       [1., 0., 0., 0., 0., 0., 0., 0., 0., 1.],\n",
              "       [1., 0., 0., 0., 0., 0., 0., 0., 0., 1.],\n",
              "       [1., 0., 0., 0., 0., 0., 0., 0., 0., 1.],\n",
              "       [1., 0., 0., 0., 0., 0., 0., 0., 0., 1.],\n",
              "       [1., 1., 1., 1., 1., 1., 1., 1., 1., 1.]])"
            ]
          },
          "execution_count": 4,
          "metadata": {},
          "output_type": "execute_result"
        }
      ],
      "source": [
        "m = np.ones([10,10])\n",
        "m[1:-1,1:-1] = np.zeros([8,8])\n",
        "m"
      ]
    }
  ],
  "metadata": {
    "kernelspec": {
      "display_name": "Python 3.8.13 ('rl')",
      "language": "python",
      "name": "python3"
    },
    "language_info": {
      "codemirror_mode": {
        "name": "ipython",
        "version": 3
      },
      "file_extension": ".py",
      "mimetype": "text/x-python",
      "name": "python",
      "nbconvert_exporter": "python",
      "pygments_lexer": "ipython3",
      "version": "3.8.16"
    },
    "vscode": {
      "interpreter": {
        "hash": "7adf563582b631488c2dff1df89ec745bc1f8b843f6dffae9ce73378ec786240"
      }
    }
  },
  "nbformat": 4,
  "nbformat_minor": 5
}
