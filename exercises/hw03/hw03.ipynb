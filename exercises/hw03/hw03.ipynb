{
 "cells": [
  {
   "cell_type": "markdown",
   "id": "c6326c1f",
   "metadata": {},
   "source": [
    "## Homework Assignment 3 - Linear Regression and Polynomial Regression\n",
    "\n",
    "\n",
    "### 1. Linear Regression\n",
    "Use numpy to establish multi-variable linear regression model, as \n",
    "$$y = Xa + b$$\n",
    "where $$y \\in \\mathbb{R}^{n}, X \\in \\mathbb{R}^{n \\times m}, a \\in \\mathbb{R}^{m}, b \\in \\mathbb{R},$$\n",
    "$a$ is the regression coefficient, $b$ is the intercept term, according to the least square method\n",
    "$$ [a|b] = (\\hat{X}^T\\hat{X})^{-1}\\hat{X}^{T}y,$$\n",
    "where $\\hat{X} = [X|I_{n}]$, with $I_n = (1,1,1,\\ldots,1)^T \\in \\mathbb{R}^{n}$"
   ]
  },
  {
   "cell_type": "markdown",
   "id": "9b409d88",
   "metadata": {},
   "source": [
    "#### Step 1. Data generation"
   ]
  },
  {
   "cell_type": "code",
   "execution_count": 2,
   "id": "c5f73c3a",
   "metadata": {},
   "outputs": [],
   "source": [
    "import numpy as np"
   ]
  },
  {
   "cell_type": "code",
   "execution_count": 3,
   "id": "8ee9f0c8",
   "metadata": {},
   "outputs": [],
   "source": [
    "def generate_linear_model_data(n, m):\n",
    "    np.random.seed(2023)\n",
    "    assert (n>m)\n",
    "    X = np.random.uniform(0,1,(n,m))\n",
    "    a = np.random.normal(0,1,m)\n",
    "    # print(a.shape)\n",
    "    b = np.random.normal(0,1,1)\n",
    "    y = X@a + b + np.random.normal(0, 0.3, (n))\n",
    "    # print(X, \"\\n\", a, \"\\n\", b, \"\\n\", y)\n",
    "    return X, y, a, b"
   ]
  },
  {
   "cell_type": "code",
   "execution_count": 4,
   "id": "75e30f9f",
   "metadata": {},
   "outputs": [
    {
     "name": "stdout",
     "output_type": "stream",
     "text": [
      "shape of X and y is:(10, 3) and (10,)\n"
     ]
    }
   ],
   "source": [
    "n = 10\n",
    "m = 3\n",
    "X, y, a_true, b_true = generate_linear_model_data(n, m)\n",
    "print('shape of X and y is:{} and {}'.format(X.shape, y.shape))"
   ]
  },
  {
   "cell_type": "markdown",
   "id": "2dd3266e",
   "metadata": {},
   "source": [
    "#### Step2. Fit the data by using the least square method"
   ]
  },
  {
   "cell_type": "code",
   "execution_count": 5,
   "id": "b800dab1",
   "metadata": {},
   "outputs": [],
   "source": [
    "def expand_x(X):\n",
    "    n, m = X.shape\n",
    "    I_n = np.ones((n,1))\n",
    "    # Tips: using numpy to concatenate the matrix X and I_n\n",
    "    X_expand = np.concatenate((X, I_n), 1)\n",
    "    # print(X_expand.shape)\n",
    "    return X_expand"
   ]
  },
  {
   "cell_type": "code",
   "execution_count": 6,
   "id": "2ee094dd",
   "metadata": {},
   "outputs": [],
   "source": [
    "def ls_method(X, y):\n",
    "    # Tips: using np.linalg.inv() to get the inverse matrix\n",
    "    X_trans = np.transpose(X)\n",
    "    # print(X_trans.shape, X.shape, y.shape)\n",
    "    coeff = np.linalg.inv(X_trans@X)@X_trans@y\n",
    "    # print(coeff)\n",
    "    a_est, b_est = coeff[:-1], coeff[-1:]\n",
    "    return a_est, b_est"
   ]
  },
  {
   "cell_type": "code",
   "execution_count": 7,
   "id": "540b9585",
   "metadata": {},
   "outputs": [],
   "source": [
    "X = expand_x(X)"
   ]
  },
  {
   "cell_type": "code",
   "execution_count": 8,
   "id": "272294d3",
   "metadata": {},
   "outputs": [],
   "source": [
    "a_est, b_est = ls_method(X, y)"
   ]
  },
  {
   "cell_type": "code",
   "execution_count": 9,
   "id": "45b454f5",
   "metadata": {},
   "outputs": [
    {
     "name": "stdout",
     "output_type": "stream",
     "text": [
      "The true a is [0.77174916 0.74152348 1.32476273], and the estimated a is [0.68836574 0.07102966 1.39777345]\n",
      "The true b is [0.43928671], and the estimated b is [0.71355283]\n"
     ]
    }
   ],
   "source": [
    "# compare the true model and the estimated one\n",
    "print('The true a is {}, and the estimated a is {}'.format(a_true, a_est))\n",
    "print('The true b is {}, and the estimated b is {}'.format(b_true, b_est))"
   ]
  },
  {
   "cell_type": "markdown",
   "id": "90ee80b9",
   "metadata": {},
   "source": [
    "### 2. Polynomial Regression\n",
    "Use numpy to establish polynomial regression model.\n",
    "Only need to expand the raw data $X$ to $[X | X\\cdot X | X \\cdot X \\cdot X |...]$."
   ]
  },
  {
   "cell_type": "code",
   "execution_count": 10,
   "id": "2a8dde69",
   "metadata": {},
   "outputs": [],
   "source": [
    "def expand_poly_x(X, p):\n",
    "    '''\n",
    "    input X: (n, m)\n",
    "          p: integer\n",
    "    output: X_expand: (n, m * p + 1)\n",
    "    '''\n",
    "    n, m = X.shape\n",
    "    assert(m*p+1 <= n)\n",
    "    # Tips: Iteratively multiply to get the target matrix, and don not forget to append the unit vector I_n\n",
    "    X_expand = np.zeros((n, m*p))\n",
    "    X_expand[:, 0:m] = X\n",
    "    \n",
    "    for i in range(1, p):\n",
    "        X_expand[:, i*m:(i+1)*m] = X_expand[:, (i-1)*m:i*m] * X\n",
    "    #     print(X_expand)\n",
    "    # print(X*X)\n",
    "    # print(X*X*X)\n",
    "    I_n = np.ones((n,1))\n",
    "    X_expand = np.concatenate((X_expand, I_n ), 1)\n",
    "    return X_expand"
   ]
  },
  {
   "cell_type": "code",
   "execution_count": 14,
   "id": "0b5c8bcb",
   "metadata": {},
   "outputs": [],
   "source": [
    "p = 3\n",
    "n = 10\n",
    "m = 2\n",
    "X, y, a_true, b_true = generate_linear_model_data(n, m)\n",
    "X = expand_poly_x(X,p)"
   ]
  },
  {
   "cell_type": "code",
   "execution_count": 15,
   "id": "a4e24f4c",
   "metadata": {},
   "outputs": [],
   "source": [
    "a_est, b_est = ls_method(X, y)"
   ]
  },
  {
   "cell_type": "code",
   "execution_count": 16,
   "id": "c9352445",
   "metadata": {
    "scrolled": true
   },
   "outputs": [
    {
     "data": {
      "text/plain": [
       "(array([-14.41164636,   6.48866598,  49.77857677, -14.2304274 ,\n",
       "        -53.34168224,   8.25924227]),\n",
       " array([-0.72581642]))"
      ]
     },
     "execution_count": 16,
     "metadata": {},
     "output_type": "execute_result"
    }
   ],
   "source": [
    "a_est, b_est"
   ]
  },
  {
   "cell_type": "code",
   "execution_count": null,
   "id": "0cfab235",
   "metadata": {},
   "outputs": [],
   "source": []
  }
 ],
 "metadata": {
  "kernelspec": {
   "display_name": "base",
   "language": "python",
   "name": "python3"
  },
  "language_info": {
   "codemirror_mode": {
    "name": "ipython",
    "version": 3
   },
   "file_extension": ".py",
   "mimetype": "text/x-python",
   "name": "python",
   "nbconvert_exporter": "python",
   "pygments_lexer": "ipython3",
   "version": "3.8.16"
  },
  "vscode": {
   "interpreter": {
    "hash": "d8a9911dd55824de2b9148872b09f5aa97429f0d8598f0eb95e15d199cda6b48"
   }
  }
 },
 "nbformat": 4,
 "nbformat_minor": 5
}
