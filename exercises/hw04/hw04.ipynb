{
 "cells": [
  {
   "cell_type": "markdown",
   "id": "da2fe1b8",
   "metadata": {},
   "source": [
    "## Cross Validation\n",
    "Holdout sets are a great start to model validation. However, using a single train and test set if often not enough. Cross-validation is considered the gold standard when it comes to validating model performance and is almost always used when tuning model hyper-parameters."
   ]
  },
  {
   "cell_type": "code",
   "execution_count": 1,
   "id": "0cd32813",
   "metadata": {},
   "outputs": [],
   "source": [
    "# Load datasets and packages\n",
    "from sklearn.datasets import load_diabetes \n",
    "import numpy as np\n",
    "datasets = load_diabetes()\n",
    "X, y = datasets['data'], datasets['target']"
   ]
  },
  {
   "cell_type": "code",
   "execution_count": 2,
   "id": "f42e53d0",
   "metadata": {},
   "outputs": [],
   "source": [
    "# Split the training and test sets\n",
    "from sklearn.model_selection import train_test_split\n",
    "X_train, X_test, y_train, y_test = train_test_split(X, y, test_size=0.2, random_state=42)"
   ]
  },
  {
   "cell_type": "code",
   "execution_count": 3,
   "id": "9f09b70e",
   "metadata": {},
   "outputs": [
    {
     "name": "stdout",
     "output_type": "stream",
     "text": [
      "Score of the model is : 0.4526027629719195\n"
     ]
    }
   ],
   "source": [
    "# Using the linear regression to fit the data\n",
    "from sklearn.linear_model import LinearRegression\n",
    "reg = LinearRegression().fit(X_train,y_train)\n",
    "y_pred = reg.predict(X_test)\n",
    "score = reg.score(X_test, y_test)\n",
    "# In linear model, the score is referred to R^2 score\n",
    "print(r'Score of the model is : {}'.format(score))"
   ]
  },
  {
   "attachments": {},
   "cell_type": "markdown",
   "id": "4d6ba4da",
   "metadata": {},
   "source": [
    "We have build a linear model by using training set and test set, now we use the cross-validation technique for training. "
   ]
  },
  {
   "cell_type": "code",
   "execution_count": 5,
   "id": "f7c6f4eb",
   "metadata": {},
   "outputs": [],
   "source": [
    "k = 5 # 5-fold cross-validation\n",
    "n_samples = len(X_train)\n",
    "fold_size = n_samples // k\n",
    "scores = []\n",
    "masks = []\n",
    "models = []\n",
    "for fold in range(k):\n",
    "    reg = LinearRegression()\n",
    "    \n",
    "    # generate a boolean mask for the validation set in this fold\n",
    "    val_mask = np.zeros(n_samples, dtype=bool)\n",
    "    val_mask[fold*fold_size:(fold+1)*fold_size] = True\n",
    "    \n",
    "    # store the mask for visualization\n",
    "    masks.append(val_mask)\n",
    "    \n",
    "    # create training and validation sets using this mask\n",
    "    X_val, y_val = X_train[val_mask], y_train[val_mask]\n",
    "    X_trn, y_trn = X_train[~val_mask], y_train[~val_mask]\n",
    "    \n",
    "    # Tips: fit the classifier (see the former example)\n",
    "    reg.fit(X_trn, y_trn)\n",
    "    # y_pred = reg.predict(X_val)\n",
    "    # Tips: compute the score and record it\n",
    "    score = reg.score(X_val, y_val)\n",
    "    scores.append(score)\n",
    "    models.append(reg)"
   ]
  },
  {
   "attachments": {},
   "cell_type": "markdown",
   "id": "c2927d30",
   "metadata": {},
   "source": [
    "1. Use the k models to predict the value of $y_{test}$ respectively, and calculate the mean score"
   ]
  },
  {
   "cell_type": "code",
   "execution_count": 6,
   "id": "8c14b513",
   "metadata": {},
   "outputs": [
    {
     "name": "stdout",
     "output_type": "stream",
     "text": [
      "Mean score of the 5 model is : 0.449375724169015\n"
     ]
    }
   ],
   "source": [
    "y_preds = []\n",
    "score_tests = []\n",
    "\n",
    "for fold in range(k):\n",
    "    reg = models[fold]\n",
    "    # Tips: get the scores and predictions (see the former examples)\n",
    "    score_test = reg.score(X_test, y_test)\n",
    "    y_pred = reg.predict(X_test)\n",
    "    score_tests.append(score_test)\n",
    "    y_preds.append(y_pred)\n",
    "    \n",
    "# Tips: calculate the mean score\n",
    "score = np.mean(score_tests)\n",
    "print('Mean score of the {} model is : {}'.format(k, score))"
   ]
  },
  {
   "cell_type": "markdown",
   "id": "f49040c9",
   "metadata": {},
   "source": [
    "2. Use the ensembled k models to predict $y_{test}$, and calculate the score"
   ]
  },
  {
   "cell_type": "code",
   "execution_count": 7,
   "id": "0bf5ee0f",
   "metadata": {},
   "outputs": [
    {
     "name": "stdout",
     "output_type": "stream",
     "text": [
      "Score of the ensembled model by 5 fold is : 0.4550976834912759\n"
     ]
    }
   ],
   "source": [
    "y_preds = np.stack(y_preds, axis=0)\n",
    "# Tips: calculate the mean prediction value\n",
    "y_pred = np.mean(y_preds, axis=0)\n",
    "\n",
    "from sklearn.metrics import r2_score\n",
    "score = r2_score(y_test, y_pred)\n",
    "print('Score of the ensembled model by {} fold is : {}'.format(k, score))"
   ]
  },
  {
   "attachments": {},
   "cell_type": "markdown",
   "id": "48384a6d",
   "metadata": {},
   "source": [
    "#### Question: There are two scores: (1) mean of the scores and (2) score of the mean prediction. Which score is correct? Why?"
   ]
  },
  {
   "cell_type": "markdown",
   "id": "4ddcea2b",
   "metadata": {},
   "source": [
    " Please write your answer here."
   ]
  },
  {
   "attachments": {},
   "cell_type": "markdown",
   "id": "59814a28",
   "metadata": {},
   "source": [
    "* The former one is correct because it represents the average performance of models from all folds. However, the \"mean prediction\" is just a theoratical concept but does not actually exist."
   ]
  }
 ],
 "metadata": {
  "kernelspec": {
   "display_name": "base",
   "language": "python",
   "name": "python3"
  },
  "language_info": {
   "codemirror_mode": {
    "name": "ipython",
    "version": 3
   },
   "file_extension": ".py",
   "mimetype": "text/x-python",
   "name": "python",
   "nbconvert_exporter": "python",
   "pygments_lexer": "ipython3",
   "version": "3.8.16"
  },
  "vscode": {
   "interpreter": {
    "hash": "d8a9911dd55824de2b9148872b09f5aa97429f0d8598f0eb95e15d199cda6b48"
   }
  }
 },
 "nbformat": 4,
 "nbformat_minor": 5
}
